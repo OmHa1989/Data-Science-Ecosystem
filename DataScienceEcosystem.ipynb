{
 "cells": [
  {
   "cell_type": "markdown",
   "id": "321c01eb",
   "metadata": {},
   "source": [
    "# Data Science Tools and Ecosystem\n",
    "\n",
    "In this notebook, Data Science Tools and Ecosystem are summarized."
   ]
  },
  {
   "cell_type": "markdown",
   "id": "dd308444",
   "metadata": {},
   "source": [
    "**Objectives:**\n",
    "- *List popular languages for Data Science:*\n",
    "1. Python\n",
    "2. R\n",
    "3. VBA\n",
    "- *List the commonly used libraries used by Data Scientists:*\n",
    "1. NumPy\n",
    "2. Pandas\n",
    "3. Matplotlib\n",
    "4. PyTorch\n",
    "- *List some of the Data Science Tools:*\n",
    "1. Jupyter Notebooks\n",
    "2. R Studio\n",
    "3. Anaconda"
   ]
  },
  {
   "cell_type": "markdown",
   "id": "8a9dd8d9",
   "metadata": {},
   "source": [
    "Some of the popular languages that Data Scientists use are:\n",
    "1. Python\n",
    "2. R\n",
    "3. VBA\n",
    "4. Julia\n",
    "5. JavaScript\n",
    "6. Scala"
   ]
  },
  {
   "cell_type": "markdown",
   "id": "2735f308",
   "metadata": {},
   "source": [
    "Some of the commonly used libraries used by Data Scientists include:\n",
    "1. TensorFlow\n",
    "2. NumPy\n",
    "3. SciPy\n",
    "4. Pandas\n",
    "5. Matplotlib\n",
    "6. SciKit-Learn\n",
    "7. PyTorch"
   ]
  },
  {
   "cell_type": "markdown",
   "id": "3394c597",
   "metadata": {},
   "source": [
    "|Data Science Tools|\n",
    "|------------------|\n",
    "|Jupyter Notebooks|\n",
    "|R Studio|\n",
    "|Anaconda|\n",
    "|Spyder|\n",
    "|TenserFlow|\n"
   ]
  },
  {
   "cell_type": "markdown",
   "id": "c233bea0",
   "metadata": {},
   "source": [
    "### Below are a few examples of evaluating arithmetic expressions in Python.\n"
   ]
  },
  {
   "cell_type": "code",
   "execution_count": 11,
   "id": "adf05b46",
   "metadata": {},
   "outputs": [
    {
     "data": {
      "text/plain": [
       "17"
      ]
     },
     "execution_count": 11,
     "metadata": {},
     "output_type": "execute_result"
    }
   ],
   "source": [
    "# This a simple arithmetic expression to mutiply then add integers\n",
    "(3*4)+5"
   ]
  },
  {
   "cell_type": "code",
   "execution_count": 12,
   "id": "bb84a43f",
   "metadata": {},
   "outputs": [
    {
     "name": "stdout",
     "output_type": "stream",
     "text": [
      "3 hour(s) and  20 minute(s)\n"
     ]
    }
   ],
   "source": [
    "# This will convert X minutes to hours by diving by 60\n",
    "import numpy as np\n",
    "X = 200\n",
    "print((X//60) , \"hour(s) and \", (X%60), \"minute(s)\")"
   ]
  },
  {
   "cell_type": "markdown",
   "id": "80401e92",
   "metadata": {},
   "source": [
    "## Author\n",
    "Omid Hashemi"
   ]
  },
  {
   "cell_type": "code",
   "execution_count": null,
   "id": "9fb92411",
   "metadata": {},
   "outputs": [],
   "source": []
  }
 ],
 "metadata": {
  "kernelspec": {
   "display_name": "Python 3 (ipykernel)",
   "language": "python",
   "name": "python3"
  },
  "language_info": {
   "codemirror_mode": {
    "name": "ipython",
    "version": 3
   },
   "file_extension": ".py",
   "mimetype": "text/x-python",
   "name": "python",
   "nbconvert_exporter": "python",
   "pygments_lexer": "ipython3",
   "version": "3.11.5"
  }
 },
 "nbformat": 4,
 "nbformat_minor": 5
}
